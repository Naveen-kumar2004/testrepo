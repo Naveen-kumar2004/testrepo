{
 "cells": [
  {
   "cell_type": "markdown",
   "id": "318f0cac",
   "metadata": {},
   "source": [
    "Data Science Tools and Ecosystem"
   ]
  },
  {
   "cell_type": "markdown",
   "id": "bffafe02",
   "metadata": {},
   "source": [
    "In this notebook,Data Science Tools and Ecosystems are summarized \n"
   ]
  },
  {
   "cell_type": "markdown",
   "id": "b7921157",
   "metadata": {},
   "source": [
    "**Objectives**\n",
    "\n",
    "-List popular languages for data science\n",
    "-Explain key libraries used in data science \n",
    "-Discuss common data visualization techniques\n",
    "-Introduce basic machine learning concepts"
   ]
  },
  {
   "cell_type": "markdown",
   "id": "b771d698",
   "metadata": {},
   "source": [
    "Some of the popular languages that Data-Scientists use are :\n",
    "     1.python\n",
    "     2.R\n",
    "     3.scala"
   ]
  },
  {
   "cell_type": "markdown",
   "id": "2fb2b97f",
   "metadata": {},
   "source": [
    "Some of commanly used libraries used by Data Scientists include :\n",
    "    1.Pandas\n",
    "    2.Numpy\n",
    "    3.TensorFlow"
   ]
  },
  {
   "cell_type": "markdown",
   "id": "e5af5b0d",
   "metadata": {},
   "source": [
    "Data Science Tools and Ecosystem \n",
    " | Data Science Tools |\n",
    " |____________________|\n",
    " |Jupyter Notebook    |\n",
    " |RStudio             |\n",
    " |Spyder              |\n",
    " "
   ]
  },
  {
   "cell_type": "code",
   "execution_count": 2,
   "id": "f0f747a6",
   "metadata": {},
   "outputs": [
    {
     "data": {
      "text/plain": [
       "17"
      ]
     },
     "execution_count": 2,
     "metadata": {},
     "output_type": "execute_result"
    }
   ],
   "source": [
    "#This a simple arithmetic expression to multiply then add integer\n",
    "(3*4)+5"
   ]
  },
  {
   "cell_type": "code",
   "execution_count": 3,
   "id": "4337e103",
   "metadata": {},
   "outputs": [
    {
     "data": {
      "text/plain": [
       "3.3333333333333335"
      ]
     },
     "execution_count": 3,
     "metadata": {},
     "output_type": "execute_result"
    }
   ],
   "source": [
    "# This will conver 200 minutes to hurs by diving by 60 \n",
    "minutes=200\n",
    "hours=minutes/60\n",
    "hours"
   ]
  },
  {
   "cell_type": "markdown",
   "id": "f0f32014",
   "metadata": {},
   "source": [
    "## Author\n",
    "\n",
    "Naveenkumar"
   ]
  },
  {
   "cell_type": "code",
   "execution_count": null,
   "id": "837c271a",
   "metadata": {},
   "outputs": [],
   "source": []
  }
 ],
 "metadata": {
  "kernelspec": {
   "display_name": "Python 3 (ipykernel)",
   "language": "python",
   "name": "python3"
  },
  "language_info": {
   "codemirror_mode": {
    "name": "ipython",
    "version": 3
   },
   "file_extension": ".py",
   "mimetype": "text/x-python",
   "name": "python",
   "nbconvert_exporter": "python",
   "pygments_lexer": "ipython3",
   "version": "3.11.5"
  }
 },
 "nbformat": 4,
 "nbformat_minor": 5
}
