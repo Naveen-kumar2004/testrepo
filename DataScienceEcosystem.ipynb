{
 "cells": [
  {
   "cell_type": "markdown",
   "id": "2430d234",
   "metadata": {},
   "source": [
    "Data Science Tools and Ecosystem"
   ]
  },
  {
   "cell_type": "markdown",
   "id": "d847502a",
   "metadata": {},
   "source": [
    "In this notebook,Data Science Tools and Ecosystems are summarized \n"
   ]
  },
  {
   "cell_type": "markdown",
   "id": "a20c4be3",
   "metadata": {},
   "source": [
    "**Objectives**\n",
    "\n",
    "-List popular languages for data science\n",
    "-Explain key libraries used in data science \n",
    "-Discuss common data visualization techniques\n",
    "-Introduce basic machine learning concepts"
   ]
  },
  {
   "cell_type": "markdown",
   "id": "6b68ea66",
   "metadata": {},
   "source": [
    "Some of the popular languages that Data-Scientists use are :\n",
    "     1.python\n",
    "     2.R\n",
    "     3.scala"
   ]
  },
  {
   "cell_type": "markdown",
   "id": "decc4fd7",
   "metadata": {},
   "source": [
    "Some of commanly used libraries used by Data Scientists include :\n",
    "    1.Pandas\n",
    "    2.Numpy\n",
    "    3.TensorFlow"
   ]
  },
  {
   "cell_type": "markdown",
   "id": "2c8ab54a",
   "metadata": {},
   "source": [
    "Data Science Tools and Ecosystem \n",
    " | Data Science Tools |\n",
    " |____________________|\n",
    " |Jupyter Notebook    |\n",
    " |RStudio             |\n",
    " |Spyder              |\n",
    " "
   ]
  },
  {
   "cell_type": "code",
   "execution_count": 2,
   "id": "4d94da1f",
   "metadata": {},
   "outputs": [
    {
     "data": {
      "text/plain": [
       "17"
      ]
     },
     "execution_count": 2,
     "metadata": {},
     "output_type": "execute_result"
    }
   ],
   "source": [
    "#This a simple arithmetic expression to multiply then add integer\n",
    "(3*4)+5"
   ]
  },
  {
   "cell_type": "code",
   "execution_count": 3,
   "id": "7621353e",
   "metadata": {},
   "outputs": [
    {
     "data": {
      "text/plain": [
       "3.3333333333333335"
      ]
     },
     "execution_count": 3,
     "metadata": {},
     "output_type": "execute_result"
    }
   ],
   "source": [
    "# This will convert 200 minutes to hours by dividing by 60 \n",
    "minutes=200\n",
    "hours=minutes/60\n",
    "hours"
   ]
  },
  {
   "cell_type": "markdown",
   "id": "4003bf13",
   "metadata": {},
   "source": [
    "## Author\n",
    "\n",
    "Naveenkumar"
   ]
  }
 ],
 "metadata": {
  "kernelspec": {
   "display_name": "Python 3 (ipykernel)",
   "language": "python",
   "name": "python3"
  },
  "language_info": {
   "codemirror_mode": {
    "name": "ipython",
    "version": 3
   },
   "file_extension": ".py",
   "mimetype": "text/x-python",
   "name": "python",
   "nbconvert_exporter": "python",
   "pygments_lexer": "ipython3",
   "version": "3.11.5"
  }
 },
 "nbformat": 4,
 "nbformat_minor": 5
}
